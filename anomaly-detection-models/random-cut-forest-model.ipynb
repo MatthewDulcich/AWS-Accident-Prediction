{
 "cells": [
  {
   "cell_type": "code",
   "execution_count": 1,
   "metadata": {},
   "outputs": [
    {
     "name": "stderr",
     "output_type": "stream",
     "text": [
      "/var/folders/cr/5q7xrkd555g6785xmf0nxpfm0000gn/T/ipykernel_57807/3175902959.py:8: FutureWarning: 'H' is deprecated and will be removed in a future version, please use 'h' instead.\n",
      "  'datetime': pd.date_range(start='2024-01-01', periods=1000, freq='H')\n"
     ]
    },
    {
     "name": "stdout",
     "output_type": "stream",
     "text": [
      "  camera_id  average_speed            datetime      hour  day_of_week  \\\n",
      "0  camera_2      -0.223551 2024-01-01 00:00:00 -1.655100    -1.495605   \n",
      "1  camera_1       0.172198 2024-01-01 01:00:00 -1.510373    -1.495605   \n",
      "2  camera_2      -1.074852 2024-01-01 02:00:00 -1.365646    -1.495605   \n",
      "3  camera_3       1.060477 2024-01-01 03:00:00 -1.220919    -1.495605   \n",
      "4  camera_2      -0.550459 2024-01-01 04:00:00 -1.076191    -1.495605   \n",
      "\n",
      "      month  \n",
      "0 -0.586588  \n",
      "1 -0.586588  \n",
      "2 -0.586588  \n",
      "3 -0.586588  \n",
      "4 -0.586588  \n"
     ]
    }
   ],
   "source": [
    "import pandas as pd\n",
    "import numpy as np\n",
    "\n",
    "# Simulate synthetic traffic data\n",
    "data = {\n",
    "    'camera_id': np.random.choice(['camera_1', 'camera_2', 'camera_3'], size=1000),\n",
    "    'average_speed': np.random.normal(60, 10, size=1000),  # Average speed around 60 mph\n",
    "    'datetime': pd.date_range(start='2024-01-01', periods=1000, freq='H')\n",
    "}\n",
    "\n",
    "df = pd.DataFrame(data)\n",
    "\n",
    "# Extract useful time-based features\n",
    "df['hour'] = df['datetime'].dt.hour\n",
    "df['day_of_week'] = df['datetime'].dt.dayofweek\n",
    "df['month'] = df['datetime'].dt.month\n",
    "\n",
    "# Normalize the data (excluding camera_id and datetime)\n",
    "from sklearn.preprocessing import StandardScaler\n",
    "\n",
    "scaler = StandardScaler()\n",
    "df[['average_speed', 'hour', 'day_of_week', 'month']] = scaler.fit_transform(df[['average_speed', 'hour', 'day_of_week', 'month']])\n",
    "\n",
    "print(df.head())"
   ]
  },
  {
   "cell_type": "code",
   "execution_count": 5,
   "metadata": {},
   "outputs": [
    {
     "ename": "ModuleNotFoundError",
     "evalue": "No module named 'pyod.models.rcforest'",
     "output_type": "error",
     "traceback": [
      "\u001b[0;31m---------------------------------------------------------------------------\u001b[0m",
      "\u001b[0;31mModuleNotFoundError\u001b[0m                       Traceback (most recent call last)",
      "Cell \u001b[0;32mIn[5], line 1\u001b[0m\n\u001b[0;32m----> 1\u001b[0m \u001b[38;5;28;01mfrom\u001b[39;00m \u001b[38;5;21;01mpyod\u001b[39;00m\u001b[38;5;21;01m.\u001b[39;00m\u001b[38;5;21;01mmodels\u001b[39;00m\u001b[38;5;21;01m.\u001b[39;00m\u001b[38;5;21;01mrcforest\u001b[39;00m \u001b[38;5;28;01mimport\u001b[39;00m RCForest\n\u001b[1;32m      2\u001b[0m \u001b[38;5;28;01mfrom\u001b[39;00m \u001b[38;5;21;01mpyod\u001b[39;00m\u001b[38;5;21;01m.\u001b[39;00m\u001b[38;5;21;01mutils\u001b[39;00m\u001b[38;5;21;01m.\u001b[39;00m\u001b[38;5;21;01mdata\u001b[39;00m \u001b[38;5;28;01mimport\u001b[39;00m generate_data\n\u001b[1;32m      3\u001b[0m \u001b[38;5;28;01mimport\u001b[39;00m \u001b[38;5;21;01mmatplotlib\u001b[39;00m\u001b[38;5;21;01m.\u001b[39;00m\u001b[38;5;21;01mpyplot\u001b[39;00m \u001b[38;5;28;01mas\u001b[39;00m \u001b[38;5;21;01mplt\u001b[39;00m\n",
      "\u001b[0;31mModuleNotFoundError\u001b[0m: No module named 'pyod.models.rcforest'"
     ]
    }
   ],
   "source": [
    "from pyod.models.rcforest import RCForest\n",
    "from pyod.utils.data import generate_data\n",
    "import matplotlib.pyplot as plt\n",
    "\n",
    "# Extract the feature columns (we don't need camera_id or datetime for the model)\n",
    "X = df[['average_speed', 'hour', 'day_of_week', 'month']].values\n",
    "\n",
    "# Train a Random Cut Forest model\n",
    "rcf_model = RCForest(n_estimators=100, max_samples=256, contamination=0.05, random_state=42)\n",
    "rcf_model.fit(X)\n",
    "\n",
    "# Get the anomaly scores for each data point\n",
    "anomaly_scores = rcf_model.decision_function(X)\n",
    "df['anomaly_score'] = anomaly_scores\n",
    "\n",
    "# Identify anomalies (for visualization purposes)\n",
    "df['is_anomaly'] = rcf_model.labels_  # 1 for anomalies, 0 for normal\n",
    "\n",
    "# Plot the average speed and anomaly scores\n",
    "plt.figure(figsize=(12, 6))\n",
    "plt.plot(df['average_speed'], label='Average Speed')\n",
    "plt.plot(df['anomaly_score'], label='Anomaly Score', color='red')\n",
    "plt.title('Anomaly Detection in Traffic Data with RCF')\n",
    "plt.legend()\n",
    "plt.show()"
   ]
  },
  {
   "cell_type": "code",
   "execution_count": null,
   "metadata": {},
   "outputs": [],
   "source": [
    "import joblib\n",
    "\n",
    "# Save the model\n",
    "joblib.dump(rcf_model, 'rcf_model.pkl')\n",
    "\n",
    "# Load the model\n",
    "loaded_model = joblib.load('rcf_model.pkl')"
   ]
  }
 ],
 "metadata": {
  "kernelspec": {
   "display_name": "aws-venv",
   "language": "python",
   "name": "python3"
  },
  "language_info": {
   "codemirror_mode": {
    "name": "ipython",
    "version": 3
   },
   "file_extension": ".py",
   "mimetype": "text/x-python",
   "name": "python",
   "nbconvert_exporter": "python",
   "pygments_lexer": "ipython3",
   "version": "3.12.2"
  }
 },
 "nbformat": 4,
 "nbformat_minor": 2
}
